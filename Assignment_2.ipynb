{
  "cells": [
    {
      "cell_type": "markdown",
      "metadata": {
        "id": "Ui8LKXjlii3V"
      },
      "source": [
        "### 1) Write a program to print the maximum between two numbers.\n"
      ]
    },
    {
      "cell_type": "code",
      "source": [
        "two_num=[20,40]\n",
        "x=max(two_num)\n",
        "print(x)"
      ],
      "metadata": {
        "id": "5NbxJprAEPle"
      },
      "execution_count": null,
      "outputs": []
    },
    {
      "cell_type": "markdown",
      "metadata": {
        "id": "xQB_yP4rirZS"
      },
      "source": [
        "### 2) Write a program to find the maximum between three numbers.\n"
      ]
    },
    {
      "cell_type": "code",
      "source": [
        "three_num=[70,80,90]\n",
        "a=max(three_num)\n",
        "print(a)"
      ],
      "metadata": {
        "id": "OfF8Dwx_OzUG"
      },
      "execution_count": null,
      "outputs": []
    },
    {
      "cell_type": "markdown",
      "metadata": {
        "id": "di3xEq8mjBRK"
      },
      "source": [
        "### 3) Write a program to check whether a number is negative, or positive\n"
      ]
    },
    {
      "cell_type": "code",
      "source": [
        "x=float(input(\"enter your number: \"))\n",
        "if x>=0 :\n",
        "  print(f\"{x} is positive number \")\n",
        "else:\n",
        "  print(f\"{x} is negative number \")"
      ],
      "metadata": {
        "id": "qp0nI6vCH4QM"
      },
      "execution_count": null,
      "outputs": []
    },
    {
      "cell_type": "markdown",
      "metadata": {
        "id": "grc5Gk_RjFBe"
      },
      "source": [
        "### 4) Write a  program to check whether a number is even or odd  .\n"
      ]
    },
    {
      "cell_type": "code",
      "source": [
        "num=int(input(\"how old are you: \"))\n",
        "if num%2==0:\n",
        "  print(f\"{num} is an even number \")\n",
        "else:\n",
        "  print(f\"{num} is an odd number \")"
      ],
      "metadata": {
        "id": "zoDUKIRQIQ4L"
      },
      "execution_count": null,
      "outputs": []
    },
    {
      "cell_type": "markdown",
      "metadata": {
        "id": "JeN4yaIMjNlC"
      },
      "source": [
        "### 5) Write a  program to store the weekdays in a list and access the week day and print it by index.\n"
      ]
    },
    {
      "cell_type": "code",
      "source": [
        "weekdays=[\"saturday\",\"sunday\",\"monday\",\"tuesday\",\"wendsday\",\"thursday\",\"friday\"]\n",
        "print(weekdays)\n",
        "print(weekdays[0])\n",
        "print(weekdays[2])"
      ],
      "metadata": {
        "id": "WIkc4VThKyYW"
      },
      "execution_count": null,
      "outputs": []
    },
    {
      "cell_type": "markdown",
      "metadata": {
        "id": "PkPPTrivjran"
      },
      "source": [
        "### 6)Write a program to store numbers in the List and print its reverse"
      ]
    },
    {
      "cell_type": "code",
      "source": [
        "numbers=[1,2,3,4,5,6,7,8,9]\n",
        "print(numbers)"
      ],
      "metadata": {
        "id": "9Mpw1V-2Lom-"
      },
      "execution_count": null,
      "outputs": []
    },
    {
      "cell_type": "code",
      "source": [
        "numbers.reverse()"
      ],
      "metadata": {
        "id": "RJAi6owANwg0"
      },
      "execution_count": null,
      "outputs": []
    },
    {
      "cell_type": "code",
      "source": [
        "print(numbers)"
      ],
      "metadata": {
        "id": "nk9lfq8vNy6J"
      },
      "execution_count": null,
      "outputs": []
    },
    {
      "cell_type": "code",
      "source": [],
      "metadata": {
        "id": "RE6vpZqQN0lM"
      },
      "execution_count": null,
      "outputs": []
    }
  ],
  "metadata": {
    "colab": {
      "private_outputs": true,
      "provenance": []
    },
    "kernelspec": {
      "display_name": "Python 3",
      "name": "python3"
    },
    "language_info": {
      "name": "python"
    }
  },
  "nbformat": 4,
  "nbformat_minor": 0
}